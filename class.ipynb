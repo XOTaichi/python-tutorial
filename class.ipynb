{
 "cells": [
  {
   "cell_type": "markdown",
   "metadata": {},
   "source": [
    "下面给出了python的类的示例，包含几乎所有的类的用法。"
   ]
  },
  {
   "cell_type": "code",
   "execution_count": 35,
   "metadata": {},
   "outputs": [
    {
     "name": "stdout",
     "output_type": "stream",
     "text": [
      "<class '__main__.people'>\n",
      "My name is Tom.\n",
      "I am 10 years old.\n",
      "I am at 50.00 kg\n",
      "I am a student at Grade 12.\n",
      "My name is smallmall.\n",
      "               I am 10 years old.\n"
     ]
    }
   ],
   "source": [
    "# 类定义\n",
    "class people(object):# 父类\n",
    "    # 定义基本属性\n",
    "    name = \"\"\n",
    "    age = 0\n",
    "    # 定义私有属性\n",
    "    __weight = 0\n",
    "    # 定义构造方法\n",
    "    # 该方法在对类实例化的时候自动调用\n",
    "    '''在Python方法定义中，-> None 是一种函数注解（function annotation），表示这个方法的返回类型。'''\n",
    "    def __init__(self, Name, Age, Weight) -> None:\n",
    "        self.name =  Name\n",
    "        self.age = Age\n",
    "        self.__weight = Weight\n",
    "    \n",
    "    def record(self):\n",
    "        print(self.__class__)\n",
    "        print(\"My name is %s.\\nI am %d years old.\\nI am at %.2f kg\" % (self.name, self.age, self.__weight))\n",
    "\n",
    "    # 私用方法\n",
    "    def __record(self):\n",
    "        print(\"这是私有函数\")\n",
    "\n",
    "#实例化\n",
    "p = people('Tom', 10, 50)\n",
    "p.record()\n",
    "\n",
    "# 子类继承\n",
    "class student(people):\n",
    "    grade = 1\n",
    "    def __init__(self, Name, Age, Weight, Grade) -> None:\n",
    "        # 调用父类的构造函数\n",
    "        super().__init__(Name, Age, Weight)\n",
    "        self.grade = Grade\n",
    "\n",
    "    # 覆写父类的方法：\n",
    "    def record(self):\n",
    "        print(\"I am a student at Grade %d.\\nMy name is %s.\\n \\\n",
    "              I am %d years old.\" % (self.grade, self.name, self.age))\n",
    "    # 子类不能直接访问父类的私有变量\n",
    "    # def record(self):\n",
    "    #     print(\"I am a student at Grade %d.\\nMy name is %s.\\n \\\n",
    "    #           I am %d years old.\\nI am at %.2f kg\" % (self.grade, self.name, self.age, self.__weight))\n",
    "\n",
    "smallmall = student('smallmall', 10, 50, 12)\n",
    "smallmall.record()"
   ]
  },
  {
   "cell_type": "markdown",
   "metadata": {},
   "source": [
    "1. 一个类不可以有多个构造函数，否则只会根据最后一个构造方法进行实例化"
   ]
  },
  {
   "cell_type": "code",
   "execution_count": 23,
   "metadata": {},
   "outputs": [
    {
     "name": "stdout",
     "output_type": "stream",
     "text": [
      "<class '__main__.people'>\n",
      "My name is Tom.\n",
      "I am 10 years old.\n",
      "I am at 50.00 kg\n"
     ]
    },
    {
     "ename": "TypeError",
     "evalue": "people.__init__() missing 3 required positional arguments: 'Name', 'Age', and 'Weight'",
     "output_type": "error",
     "traceback": [
      "\u001b[1;31m---------------------------------------------------------------------------\u001b[0m",
      "\u001b[1;31mTypeError\u001b[0m                                 Traceback (most recent call last)",
      "Cell \u001b[1;32mIn[23], line 27\u001b[0m\n\u001b[0;32m     25\u001b[0m p \u001b[38;5;241m=\u001b[39m people(\u001b[38;5;124m'\u001b[39m\u001b[38;5;124mTom\u001b[39m\u001b[38;5;124m'\u001b[39m,\u001b[38;5;241m10\u001b[39m,\u001b[38;5;241m50\u001b[39m)\n\u001b[0;32m     26\u001b[0m p\u001b[38;5;241m.\u001b[39mrecord()\n\u001b[1;32m---> 27\u001b[0m pp \u001b[38;5;241m=\u001b[39m \u001b[43mpeople\u001b[49m\u001b[43m(\u001b[49m\u001b[43m)\u001b[49m\n",
      "\u001b[1;31mTypeError\u001b[0m: people.__init__() missing 3 required positional arguments: 'Name', 'Age', and 'Weight'"
     ]
    }
   ],
   "source": [
    "\n",
    "# 类定义\n",
    "class people:\n",
    "    # 定义基本属性\n",
    "    name = \"\"\n",
    "    age = 0\n",
    "    # 定义私有属性 两个_加在变量头部\n",
    "    __weight = 0\n",
    "    #定义构造方法\n",
    "\n",
    "    '''一个类可以有多个构造函数'''\n",
    "    \n",
    "    def __init__(self) -> None:\n",
    "        print(\"我是不带参数的构造函数\")\n",
    "        \n",
    "    def __init__(self, Name, Age, Weight) -> None:\n",
    "        self.name =  Name\n",
    "        self.age = Age\n",
    "        self.__weight = Weight\n",
    "    \n",
    "    def record(self):\n",
    "        print(self.__class__)\n",
    "        print(\"My name is %s.\\nI am %d years old.\\nI am at %.2f kg\" % (self.name, self.age, self.__weight))\n",
    "\n",
    "#实例化\n",
    "p = people('Tom',10,50)\n",
    "p.record()\n",
    "pp = people()\n"
   ]
  },
  {
   "cell_type": "markdown",
   "metadata": {},
   "source": [
    "运行上面的代码，发现报错。其他情况以此类推"
   ]
  },
  {
   "cell_type": "markdown",
   "metadata": {},
   "source": [
    "2. 不可以直接在类的外部获得私有变量"
   ]
  },
  {
   "cell_type": "code",
   "execution_count": 24,
   "metadata": {},
   "outputs": [
    {
     "name": "stdout",
     "output_type": "stream",
     "text": [
      "{'name': 'Tom', 'age': 10, '_people__weight': 50}\n"
     ]
    },
    {
     "ename": "AttributeError",
     "evalue": "'people' object has no attribute '__weight'",
     "output_type": "error",
     "traceback": [
      "\u001b[1;31m---------------------------------------------------------------------------\u001b[0m",
      "\u001b[1;31mAttributeError\u001b[0m                            Traceback (most recent call last)",
      "Cell \u001b[1;32mIn[24], line 2\u001b[0m\n\u001b[0;32m      1\u001b[0m \u001b[38;5;28mprint\u001b[39m(p\u001b[38;5;241m.\u001b[39m\u001b[38;5;18m__dict__\u001b[39m)\n\u001b[1;32m----> 2\u001b[0m \u001b[38;5;28mprint\u001b[39m(\u001b[43mp\u001b[49m\u001b[38;5;241;43m.\u001b[39;49m\u001b[43m__weight\u001b[49m)\n",
      "\u001b[1;31mAttributeError\u001b[0m: 'people' object has no attribute '__weight'"
     ]
    }
   ],
   "source": [
    "print(p.__dict__) # 名称空间\n",
    "print(p.__weight)"
   ]
  },
  {
   "cell_type": "markdown",
   "metadata": {},
   "source": [
    "正确的做法是，在类的外部通过“实例名._类名.__变量名”访问私有变量"
   ]
  },
  {
   "cell_type": "code",
   "execution_count": 20,
   "metadata": {},
   "outputs": [
    {
     "name": "stdout",
     "output_type": "stream",
     "text": [
      "75.5\n"
     ]
    }
   ],
   "source": [
    "class Person:\n",
    "    def __init__(self, name, age, weight):\n",
    "        self.name = name\n",
    "        self.age = age\n",
    "        self.__weight = weight  # 私有变量\n",
    "        \n",
    "    def record(self):\n",
    "        print(\"My name is %s.\\nI am %d years old.\\nI am at %.2f kg\" % (self.name, self.age, self.__weight))\n",
    "\n",
    "# 创建实例\n",
    "p = Person(\"John\", 30, 75.5)\n",
    "\n",
    "# 访问私有变量\n",
    "print(p._Person__weight)  # 输出: 75.5\n"
   ]
  },
  {
   "cell_type": "markdown",
   "metadata": {},
   "source": [
    "这只是Python的名称改写机制，不是真正的访问控制。名称改写只是为了避免子类意外覆盖父类的私有属性。注意比较一下两点"
   ]
  },
  {
   "cell_type": "code",
   "execution_count": 21,
   "metadata": {},
   "outputs": [
    {
     "name": "stdout",
     "output_type": "stream",
     "text": [
      "My name is John.\n",
      "I am 30 years old.\n",
      "I am at 75.50 kg\n",
      "My name is John.\n",
      "I am 30 years old.\n",
      "I am at 20.00 kg\n"
     ]
    }
   ],
   "source": [
    "p.__weight = 30\n",
    "p.record()\n",
    "p._Person__weight = 20\n",
    "p.record()"
   ]
  },
  {
   "cell_type": "markdown",
   "metadata": {},
   "source": [
    "此外如果有双下划线的__xxx__变量，是特殊变量，不是私有变量，可以直接访问。\n",
    "在模块导入的时候，如果要导入私有方法：\n",
    "from module import _private_module"
   ]
  },
  {
   "cell_type": "markdown",
   "metadata": {},
   "source": [
    "3. 类的专用方法"
   ]
  },
  {
   "cell_type": "code",
   "execution_count": 25,
   "metadata": {},
   "outputs": [
    {
     "name": "stdout",
     "output_type": "stream",
     "text": [
      "<__main__.Vector object at 0x000002321B58F370>\n",
      "<__main__.Vector object at 0x000002321B399120>\n"
     ]
    }
   ],
   "source": [
    "class Vector:\n",
    "    def __init__(self, x, y):\n",
    "        self.x = x\n",
    "        self.y = y\n",
    "\n",
    "print(Vector(1, 2)) # __str__ \n",
    "\n",
    "v1 = Vector(1, 2) # __repr__\n",
    "print(v1) "
   ]
  },
  {
   "cell_type": "code",
   "execution_count": 31,
   "metadata": {},
   "outputs": [
    {
     "name": "stdout",
     "output_type": "stream",
     "text": [
      "Vector(3, 4)\n",
      "Vector(1, 2)\n",
      "Vector(4, 5)\n",
      "2\n",
      "False\n",
      "False\n",
      "Vector(4, 6)\n",
      "3\n",
      "4\n",
      "Vector(2, 3)\n",
      "Vector(3, 4)\n",
      "Vector(4, 5)\n",
      "Vector(5, 6)\n",
      "Vector(6, 7)\n",
      "Vector(7, 8)\n",
      "Vector(8, 9)\n",
      "Vector(9, 10)\n",
      "Vector(10, 11)\n",
      "'Vector' object has no attribute 'z'\n",
      "Vector(33, 36)\n",
      "True\n",
      "True\n",
      "False\n"
     ]
    }
   ],
   "source": [
    "class Vector:\n",
    "    def __init__(self, x, y):\n",
    "        self.x = x\n",
    "        self.y = y\n",
    "    \n",
    "    def __str__(self):\n",
    "        return f\"Vector({self.x}, {self.y})\"\n",
    "    \n",
    "    def __repr__(self):\n",
    "        return f\"Vector({self.x}, {self.y})\"\n",
    "    \n",
    "    def __len__(self):\n",
    "        return 2\n",
    "    \n",
    "    def __eq__(self, other):\n",
    "        return self.x == other.x and self.y == other.y\n",
    "    \n",
    "    def __lt__(self, other):\n",
    "        return (self.x ** 2 + self.y ** 2) < (other.x ** 2 + other.y ** 2)\n",
    "    \n",
    "    def __add__(self, other):\n",
    "        return Vector(self.x + other.x, self.y + other.y)\n",
    "    \n",
    "    def __getitem__(self, index):\n",
    "        if index == 0:\n",
    "            return self.x\n",
    "        elif index == 1:\n",
    "            return self.y\n",
    "        else:\n",
    "            raise IndexError(\"Index out of range\")\n",
    "    \n",
    "    def __getattr__(self, name):\n",
    "        # 如果访问不存在的属性，返回一个提示字符串\n",
    "        return f\"'Vector' object has no attribute '{name}'\"\n",
    "\n",
    "    def __call__(self, scalar):\n",
    "        # 将 Vector 对象变为可调用，并返回缩放后的新 Vector\n",
    "        return Vector(self.x * scalar, self.y * scalar)\n",
    "        \n",
    "    def __iter__(self):\n",
    "        # 在这里返回迭代器对象，通常是self\n",
    "        return self\n",
    "    \n",
    "    def __next__(self):\n",
    "        # 进行迭代计算\n",
    "        self.x += 1\n",
    "        self.y += 1\n",
    "        if self.x > 10:\n",
    "            raise StopIteration()\n",
    "        return f\"Vector({self.x}, {self.y})\"\n",
    "\n",
    "\n",
    "v1 = Vector(3, 4)\n",
    "v2 = Vector(1, 2)\n",
    "\n",
    "#__repr__ ,__str__\n",
    "print(v1) \n",
    "print(repr(v2)) \n",
    "print(Vector(4, 5))\n",
    "\n",
    "# __len__\n",
    "print(len(v1)) \n",
    "\n",
    "# __eq__\n",
    "print(v1 == v2)\n",
    "\n",
    "# __lt__\n",
    "print(v1 < v2) \n",
    "\n",
    "# __add__\n",
    "v3 = v1 + v2\n",
    "print(v3)\n",
    "\n",
    "# __getitem__\n",
    "print(v1[0]) \n",
    "print(v1[1]) \n",
    "\n",
    "# __iter__\n",
    "v = Vector(1, 2)\n",
    "for n in v:\n",
    "    print(n)\n",
    "\n",
    "# __ getattr__\n",
    "print(v.z)\n",
    "\n",
    "# __call__\n",
    "v_scaled = v(3)\n",
    "print(v_scaled)\n",
    "print(callable(v_scaled))\n",
    "print(callable(v))\n",
    "print(callable('a'))"
   ]
  }
 ],
 "metadata": {
  "kernelspec": {
   "display_name": "NLP",
   "language": "python",
   "name": "python3"
  },
  "language_info": {
   "codemirror_mode": {
    "name": "ipython",
    "version": 3
   },
   "file_extension": ".py",
   "mimetype": "text/x-python",
   "name": "python",
   "nbconvert_exporter": "python",
   "pygments_lexer": "ipython3",
   "version": "3.10.13"
  }
 },
 "nbformat": 4,
 "nbformat_minor": 2
}
